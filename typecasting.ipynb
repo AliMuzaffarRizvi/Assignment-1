{
 "cells": [
  {
   "cell_type": "markdown",
   "id": "0ac21311-c778-45ba-ac50-6fe6dd73f3f5",
   "metadata": {
    "panel-layout": {
     "height": 60.5938,
     "visible": true,
     "width": 100
    }
   },
   "source": [
    "# Typecasting"
   ]
  },
  {
   "cell_type": "code",
   "execution_count": 1,
   "id": "366c18f9-bc18-4e35-bb0b-8307fc61f152",
   "metadata": {},
   "outputs": [],
   "source": [
    "name = 'Ali'"
   ]
  },
  {
   "cell_type": "code",
   "execution_count": 2,
   "id": "a0ec399a-c0fa-40ee-a130-1c5dfe2ba274",
   "metadata": {},
   "outputs": [],
   "source": [
    "x = 10"
   ]
  },
  {
   "cell_type": "code",
   "execution_count": 3,
   "id": "8c4bd94e-160f-43e4-9cbe-0312965509b0",
   "metadata": {},
   "outputs": [],
   "source": [
    "y = 20"
   ]
  },
  {
   "cell_type": "code",
   "execution_count": 4,
   "id": "03045d6b-4f62-4417-96f9-b7fa50fe1662",
   "metadata": {
    "panel-layout": {
     "height": 27.1406,
     "visible": true,
     "width": 100
    }
   },
   "outputs": [
    {
     "data": {
      "text/plain": [
       "10"
      ]
     },
     "execution_count": 4,
     "metadata": {},
     "output_type": "execute_result"
    }
   ],
   "source": [
    "x"
   ]
  },
  {
   "cell_type": "code",
   "execution_count": 5,
   "id": "5e3d0518-ec4c-46f1-8774-4b308a8b66d7",
   "metadata": {
    "panel-layout": {
     "height": 27.1406,
     "visible": true,
     "width": 100
    }
   },
   "outputs": [
    {
     "data": {
      "text/plain": [
       "20"
      ]
     },
     "execution_count": 5,
     "metadata": {},
     "output_type": "execute_result"
    }
   ],
   "source": [
    "y"
   ]
  },
  {
   "cell_type": "code",
   "execution_count": 7,
   "id": "337a65b1-fe7f-436f-bca1-0680c6bf064e",
   "metadata": {},
   "outputs": [
    {
     "ename": "SyntaxError",
     "evalue": "unterminated string literal (detected at line 1) (1996970039.py, line 1)",
     "output_type": "error",
     "traceback": [
      "\u001b[1;36m  Cell \u001b[1;32mIn[7], line 1\u001b[1;36m\u001b[0m\n\u001b[1;33m    print ('father's name')\u001b[0m\n\u001b[1;37m                         ^\u001b[0m\n\u001b[1;31mSyntaxError\u001b[0m\u001b[1;31m:\u001b[0m unterminated string literal (detected at line 1)\n"
     ]
    }
   ],
   "source": [
    "print ('father's name')"
   ]
  },
  {
   "cell_type": "code",
   "execution_count": 8,
   "id": "bcc86c65-cc81-4230-bbb6-d7f033ce95f3",
   "metadata": {},
   "outputs": [
    {
     "name": "stdout",
     "output_type": "stream",
     "text": [
      "father's name\n"
     ]
    }
   ],
   "source": [
    "print(\"father's name\")"
   ]
  },
  {
   "cell_type": "code",
   "execution_count": 9,
   "id": "a6f83e0f-6340-463e-b140-b403a0176488",
   "metadata": {},
   "outputs": [
    {
     "data": {
      "text/plain": [
       "\"father's name\""
      ]
     },
     "execution_count": 9,
     "metadata": {},
     "output_type": "execute_result"
    }
   ],
   "source": [
    "(\"father's name\")"
   ]
  },
  {
   "cell_type": "code",
   "execution_count": 10,
   "id": "1cfc9575-6b12-486d-840d-094c56337360",
   "metadata": {},
   "outputs": [
    {
     "ename": "ValueError",
     "evalue": "invalid literal for int() with base 10: 'ali'",
     "output_type": "error",
     "traceback": [
      "\u001b[1;31m---------------------------------------------------------------------------\u001b[0m",
      "\u001b[1;31mValueError\u001b[0m                                Traceback (most recent call last)",
      "Cell \u001b[1;32mIn[10], line 1\u001b[0m\n\u001b[1;32m----> 1\u001b[0m \u001b[38;5;28mint\u001b[39m(\u001b[38;5;124m'\u001b[39m\u001b[38;5;124mali\u001b[39m\u001b[38;5;124m'\u001b[39m)\n",
      "\u001b[1;31mValueError\u001b[0m: invalid literal for int() with base 10: 'ali'"
     ]
    }
   ],
   "source": [
    "int('ali')"
   ]
  },
  {
   "cell_type": "code",
   "execution_count": 11,
   "id": "ff074ca6-0459-4167-8e8b-2d2da4193f63",
   "metadata": {},
   "outputs": [
    {
     "data": {
      "text/plain": [
       "3000"
      ]
     },
     "execution_count": 11,
     "metadata": {},
     "output_type": "execute_result"
    }
   ],
   "source": [
    "int('3000')"
   ]
  },
  {
   "cell_type": "code",
   "execution_count": 12,
   "id": "6be5670b-80b3-441e-8ac5-3dcfff6aa854",
   "metadata": {},
   "outputs": [
    {
     "data": {
      "text/plain": [
       "int"
      ]
     },
     "execution_count": 12,
     "metadata": {},
     "output_type": "execute_result"
    }
   ],
   "source": [
    "type(int('2000'))"
   ]
  },
  {
   "cell_type": "code",
   "execution_count": 19,
   "id": "2aef958c-06d0-469f-b6b4-6f39e4dceef9",
   "metadata": {},
   "outputs": [
    {
     "ename": "TypeError",
     "evalue": "'int' object is not callable",
     "output_type": "error",
     "traceback": [
      "\u001b[1;31m---------------------------------------------------------------------------\u001b[0m",
      "\u001b[1;31mTypeError\u001b[0m                                 Traceback (most recent call last)",
      "Cell \u001b[1;32mIn[19], line 1\u001b[0m\n\u001b[1;32m----> 1\u001b[0m \u001b[38;5;28mfloat\u001b[39m(\u001b[38;5;124m'\u001b[39m\u001b[38;5;124m5000.0\u001b[39m\u001b[38;5;124m'\u001b[39m)\n",
      "\u001b[1;31mTypeError\u001b[0m: 'int' object is not callable"
     ]
    }
   ],
   "source": [
    "float('5000.0')"
   ]
  },
  {
   "cell_type": "code",
   "execution_count": 1,
   "id": "e0d0023b-3028-4a99-8333-a5e24745a7cf",
   "metadata": {},
   "outputs": [
    {
     "data": {
      "text/plain": [
       "float"
      ]
     },
     "execution_count": 1,
     "metadata": {},
     "output_type": "execute_result"
    }
   ],
   "source": [
    "float"
   ]
  },
  {
   "cell_type": "code",
   "execution_count": 3,
   "id": "84d73b7f-1c4a-4adb-bc58-08457cf50ecf",
   "metadata": {},
   "outputs": [
    {
     "data": {
      "text/plain": [
       "2000.0"
      ]
     },
     "execution_count": 3,
     "metadata": {},
     "output_type": "execute_result"
    }
   ],
   "source": [
    "float('2000.0')"
   ]
  },
  {
   "cell_type": "code",
   "execution_count": 4,
   "id": "67553dad-88c1-4d78-85a5-cfb2e707de5d",
   "metadata": {},
   "outputs": [
    {
     "data": {
      "text/plain": [
       "2000"
      ]
     },
     "execution_count": 4,
     "metadata": {},
     "output_type": "execute_result"
    }
   ],
   "source": [
    "int(2000.0)"
   ]
  },
  {
   "cell_type": "code",
   "execution_count": 6,
   "id": "f94c2828-7a91-492c-b355-10fb973f56d2",
   "metadata": {},
   "outputs": [
    {
     "ename": "ValueError",
     "evalue": "invalid literal for int() with base 10: '20000.0'",
     "output_type": "error",
     "traceback": [
      "\u001b[1;31m---------------------------------------------------------------------------\u001b[0m",
      "\u001b[1;31mValueError\u001b[0m                                Traceback (most recent call last)",
      "Cell \u001b[1;32mIn[6], line 1\u001b[0m\n\u001b[1;32m----> 1\u001b[0m \u001b[38;5;28mint\u001b[39m(\u001b[38;5;124m'\u001b[39m\u001b[38;5;124m20000.0\u001b[39m\u001b[38;5;124m'\u001b[39m)\n",
      "\u001b[1;31mValueError\u001b[0m: invalid literal for int() with base 10: '20000.0'"
     ]
    }
   ],
   "source": [
    "int('20000.0')"
   ]
  },
  {
   "cell_type": "code",
   "execution_count": null,
   "id": "3e59758f-3b96-4750-ad41-2e0239759f37",
   "metadata": {},
   "outputs": [],
   "source": []
  }
 ],
 "metadata": {
  "kernelspec": {
   "display_name": "Python 3 (ipykernel)",
   "language": "python",
   "name": "python3"
  },
  "language_info": {
   "codemirror_mode": {
    "name": "ipython",
    "version": 3
   },
   "file_extension": ".py",
   "mimetype": "text/x-python",
   "name": "python",
   "nbconvert_exporter": "python",
   "pygments_lexer": "ipython3",
   "version": "3.12.7"
  },
  "panel-cell-order": [
   "0ac21311-c778-45ba-ac50-6fe6dd73f3f5",
   "03045d6b-4f62-4417-96f9-b7fa50fe1662",
   "5e3d0518-ec4c-46f1-8774-4b308a8b66d7"
  ]
 },
 "nbformat": 4,
 "nbformat_minor": 5
}
