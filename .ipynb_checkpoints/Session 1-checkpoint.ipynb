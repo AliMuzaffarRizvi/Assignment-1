{
 "cells": [
  {
   "cell_type": "code",
   "execution_count": 4,
   "id": "ce1f6a83-36f3-46fb-8d7b-27b6d103188b",
   "metadata": {},
   "outputs": [
    {
     "name": "stdout",
     "output_type": "stream",
     "text": [
      "hello world\n"
     ]
    }
   ],
   "source": [
    "print(\"hello world\")"
   ]
  },
  {
   "cell_type": "markdown",
   "id": "7fc88856-3d2c-49a5-a6e8-c9e711464899",
   "metadata": {},
   "source": [
    "first code"
   ]
  },
  {
   "cell_type": "markdown",
   "id": "e6f5fc23-83ac-4dcd-a0d1-9965623bbd21",
   "metadata": {},
   "source": [
    "#h1 first class practice"
   ]
  },
  {
   "cell_type": "markdown",
   "id": "aaf1d998-a25e-4584-8b55-e044e1991ce3",
   "metadata": {},
   "source": [
    "#First class lesson h1"
   ]
  },
  {
   "cell_type": "markdown",
   "id": "a025fbc3-026b-4753-a757-7c4e36f4c91c",
   "metadata": {},
   "source": [
    "# First class"
   ]
  },
  {
   "cell_type": "code",
   "execution_count": 9,
   "id": "71247c6d-ba11-432b-882d-6d218d42179f",
   "metadata": {},
   "outputs": [
    {
     "data": {
      "text/plain": [
       "str"
      ]
     },
     "execution_count": 9,
     "metadata": {},
     "output_type": "execute_result"
    }
   ],
   "source": [
    "type(\"hello world\")"
   ]
  },
  {
   "cell_type": "code",
   "execution_count": 12,
   "id": "18fe0305-f6eb-4caf-a2eb-06d19faf7f52",
   "metadata": {},
   "outputs": [
    {
     "name": "stdout",
     "output_type": "stream",
     "text": [
      "<class 'str'>\n"
     ]
    }
   ],
   "source": [
    "print(type(\"hellow World\"))"
   ]
  },
  {
   "cell_type": "code",
   "execution_count": 13,
   "id": "11f6764d-fa35-49d4-a70e-43eafd471843",
   "metadata": {},
   "outputs": [
    {
     "name": "stdout",
     "output_type": "stream",
     "text": [
      "hello world\n"
     ]
    },
    {
     "data": {
      "text/plain": [
       "NoneType"
      ]
     },
     "execution_count": 13,
     "metadata": {},
     "output_type": "execute_result"
    }
   ],
   "source": [
    "type(print(\"hello world\"))"
   ]
  },
  {
   "cell_type": "code",
   "execution_count": 14,
   "id": "45dd38f7-08ac-4264-8bb0-fce77413e9c1",
   "metadata": {},
   "outputs": [
    {
     "name": "stdout",
     "output_type": "stream",
     "text": [
      "123\n"
     ]
    }
   ],
   "source": [
    "print(123)"
   ]
  },
  {
   "cell_type": "code",
   "execution_count": 15,
   "id": "0a1aa204-dcb8-4168-9763-df201968fdc8",
   "metadata": {},
   "outputs": [
    {
     "data": {
      "text/plain": [
       "int"
      ]
     },
     "execution_count": 15,
     "metadata": {},
     "output_type": "execute_result"
    }
   ],
   "source": [
    "type(123)"
   ]
  },
  {
   "cell_type": "code",
   "execution_count": 16,
   "id": "92848302-53e0-4981-8745-2f4605cb6fbd",
   "metadata": {},
   "outputs": [
    {
     "name": "stdout",
     "output_type": "stream",
     "text": [
      "123.3\n"
     ]
    }
   ],
   "source": [
    "print(123.3)"
   ]
  },
  {
   "cell_type": "code",
   "execution_count": 17,
   "id": "227aacbb-06af-48b1-b6e5-b3150ebc44e3",
   "metadata": {},
   "outputs": [
    {
     "data": {
      "text/plain": [
       "float"
      ]
     },
     "execution_count": 17,
     "metadata": {},
     "output_type": "execute_result"
    }
   ],
   "source": [
    "type(123.3)"
   ]
  },
  {
   "cell_type": "code",
   "execution_count": 19,
   "id": "3fc39174-8abb-43bb-a37d-f8e99d90b291",
   "metadata": {},
   "outputs": [
    {
     "name": "stdout",
     "output_type": "stream",
     "text": [
      "we are learning\n",
      "python\n"
     ]
    }
   ],
   "source": [
    "print('''we are learning\n",
    "python''')"
   ]
  },
  {
   "cell_type": "code",
   "execution_count": 20,
   "id": "8c7cf998-ab3e-4e69-ae75-1f170b4ae3c8",
   "metadata": {},
   "outputs": [
    {
     "data": {
      "text/plain": [
       "str"
      ]
     },
     "execution_count": 20,
     "metadata": {},
     "output_type": "execute_result"
    }
   ],
   "source": [
    "type('''we are learning\n",
    "python''')"
   ]
  },
  {
   "cell_type": "code",
   "execution_count": null,
   "id": "5eda9581-a45c-4c96-bd5f-fe9a636eb835",
   "metadata": {},
   "outputs": [],
   "source": []
  }
 ],
 "metadata": {
  "kernelspec": {
   "display_name": "Python 3 (ipykernel)",
   "language": "python",
   "name": "python3"
  },
  "language_info": {
   "codemirror_mode": {
    "name": "ipython",
    "version": 3
   },
   "file_extension": ".py",
   "mimetype": "text/x-python",
   "name": "python",
   "nbconvert_exporter": "python",
   "pygments_lexer": "ipython3",
   "version": "3.12.7"
  }
 },
 "nbformat": 4,
 "nbformat_minor": 5
}
